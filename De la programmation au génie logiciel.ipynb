{
 "cells": [
  {
   "cell_type": "markdown",
   "metadata": {},
   "source": [
    "# De la programmation au génie logiciel\n",
    "\n",
    "**Objectifs :** \n",
    "- te sensibiliser à quelques dispositifs qui permettent d'améliorer la qualité d'un programme afin qu'il réponde mieux aux attentes des utilisateurs, des clients, et plus généralement des parties prenantes.\n",
    "- te sensibiliser à la notion de cycle de développement qui s'inscrit dans tout projet informatique de développement logiciel.\n"
   ]
  },
  {
   "cell_type": "markdown",
   "metadata": {},
   "source": [
    "## 1. Améliorer la lisibilité d'un programme\n",
    "\n",
    "**Présentation d'un programme illisible**\n",
    "- Présentation d'un programme illisible en raison du nom des variables, du nom des fonctions...\n",
    "- demande aux étudiants de comprendre ce que fait le programme\n",
    "- le constat est qu'il est difficile de comprendre ce que fait le programme\n",
    "\n",
    "**Présentation du même programme lisible**\n",
    "- Le même programme est présenté aux étudiants façon *clean code*\n",
    "- Le constat est qu'il est immédiat de comprendre ce que fait le code\n",
    "\n",
    "**Le programme est *buggé* **\n",
    "- Le programme est buggé : demande aux étudiants de trouver le bug\n",
    "- Le constat est que c'est compliqué, si on ne peut pas lancer et relancer le programme\n",
    "- Transition vers le test automatisé\n"
   ]
  },
  {
   "cell_type": "markdown",
   "metadata": {},
   "source": [
    "## 3. Cycle \"in the small\", introduction au TDD\n",
    "\n",
    "**Introduction aux tests automatisés **\n",
    "- Présentation des types de tests, du triangle des tests\n",
    "- Présentation des outils\n",
    "- Exemple d'un test pour le programme présenté\n",
    "\n",
    "**Présentation de l'approche TDD**\n",
    "- Présentation du cycle\n",
    "- Démonstration avec \"debuggage évident\" de notre programme"
   ]
  },
  {
   "cell_type": "markdown",
   "metadata": {},
   "source": [
    "## 4. Cycle \"in the large\", introduction aux cycles de développement\n",
    "\n",
    "**Introduction à la notion de projet et de cycle**\n",
    "- Définition d'un projet\n",
    "- Découpage en phase, cycle de vie générique\n",
    "\n",
    "**Présentation d'un cycle \"dédié\" aux projets de développement informatique**\n",
    "- Phases et activités UP\n",
    "- Notion d'itération à l'intératieur de chaque phase \n",
    "- Justification de la nécessité d'interations courtes, ouverture vers l'agilité  "
   ]
  },
  {
   "cell_type": "code",
   "execution_count": null,
   "metadata": {
    "collapsed": true
   },
   "outputs": [],
   "source": []
  }
 ],
 "metadata": {
  "anaconda-cloud": {},
  "kernelspec": {
   "display_name": "Python [conda root]",
   "language": "python",
   "name": "conda-root-py"
  },
  "language_info": {
   "codemirror_mode": {
    "name": "ipython",
    "version": 3
   },
   "file_extension": ".py",
   "mimetype": "text/x-python",
   "name": "python",
   "nbconvert_exporter": "python",
   "pygments_lexer": "ipython3",
   "version": "3.5.2"
  }
 },
 "nbformat": 4,
 "nbformat_minor": 1
}
